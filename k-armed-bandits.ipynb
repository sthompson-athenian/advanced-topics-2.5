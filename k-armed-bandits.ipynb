{
 "cells": [
  {
   "cell_type": "code",
   "execution_count": 1,
   "id": "f5809293",
   "metadata": {},
   "outputs": [],
   "source": [
    "import numpy as np\n",
    "import matplotlib.pyplot as plt\n",
    "\n",
    "np.random.seed(42)"
   ]
  },
  {
   "cell_type": "code",
   "execution_count": null,
   "id": "ed2cdd02",
   "metadata": {},
   "outputs": [
    {
     "data": {
      "text/plain": [
       "array([-0.83508344,  0.44741158, -1.44202456, -0.83142141, -0.53455263])"
      ]
     },
     "execution_count": 5,
     "metadata": {},
     "output_type": "execute_result"
    }
   ],
   "source": [
    "class Bandit:\n",
    "    def __init__(self, num_arms):\n",
    "        self.num_arms = num_arms\n",
    "        self.arm_means = np.random.uniform(-2, 2, self.num_arms)\n",
    "    \n",
    "    def pull_arm(self, arm : int):\n",
    "        return np.random.normal(self.arm_means[arm], 1)\n",
    "\n",
    "    def shuffle(self, ):\n",
    "        increment = np.random.normal(0, 0.01, self.num_arms)\n",
    "        self.arm_means += increment\n",
    "\n",
    "myBandit = Bandit(5)\n",
    "myBandit.arm_means"
   ]
  },
  {
   "cell_type": "code",
   "execution_count": 7,
   "id": "e0019b10",
   "metadata": {},
   "outputs": [
    {
     "ename": "AttributeError",
     "evalue": "'Bandit' object has no attribute 'num_arms'",
     "output_type": "error",
     "traceback": [
      "\u001b[1;31m---------------------------------------------------------------------------\u001b[0m",
      "\u001b[1;31mAttributeError\u001b[0m                            Traceback (most recent call last)",
      "Cell \u001b[1;32mIn[7], line 6\u001b[0m\n\u001b[0;32m      4\u001b[0m num_pulls \u001b[38;5;241m=\u001b[39m \u001b[38;5;241m1000\u001b[39m\n\u001b[0;32m      5\u001b[0m rewards \u001b[38;5;241m=\u001b[39m []\n\u001b[1;32m----> 6\u001b[0m \u001b[38;5;28;01mfor\u001b[39;00m arm \u001b[38;5;129;01min\u001b[39;00m \u001b[38;5;28mrange\u001b[39m(\u001b[43mbandit\u001b[49m\u001b[38;5;241;43m.\u001b[39;49m\u001b[43mnum_arms\u001b[49m):\n\u001b[0;32m      7\u001b[0m     arm_rewards \u001b[38;5;241m=\u001b[39m [bandit\u001b[38;5;241m.\u001b[39mpull_arm(arm) \u001b[38;5;28;01mfor\u001b[39;00m _ \u001b[38;5;129;01min\u001b[39;00m \u001b[38;5;28mrange\u001b[39m(num_pulls)]\n\u001b[0;32m      8\u001b[0m     rewards\u001b[38;5;241m.\u001b[39mappend(arm_rewards)\n",
      "\u001b[1;31mAttributeError\u001b[0m: 'Bandit' object has no attribute 'num_arms'"
     ]
    }
   ],
   "source": [
    "bandit = Bandit(4)\n",
    "\n",
    "# Collect rewards\n",
    "num_pulls = 1000\n",
    "rewards = []\n",
    "for arm in range(bandit.num_arms):\n",
    "    arm_rewards = [bandit.pull_arm(arm) for _ in range(num_pulls)]\n",
    "    rewards.append(arm_rewards)\n",
    "\n",
    "# Make violin plot\n",
    "plt.figure(figsize=(8, 6))\n",
    "plt.violinplot(rewards, showmeans=True, showextrema=True, showmedians=True)\n",
    "plt.xticks(np.arange(1, bandit.num_arms+1), [f\"Arm {i}\" for i in range(bandit.num_arms)])\n",
    "plt.ylabel(\"Reward\")\n",
    "plt.title(\"Reward Distributions of 4-Armed Bandit (no shuffle)\")\n",
    "plt.grid(alpha=0.3)"
   ]
  },
  {
   "cell_type": "code",
   "execution_count": null,
   "id": "2a0f2e87",
   "metadata": {},
   "outputs": [],
   "source": []
  }
 ],
 "metadata": {
  "kernelspec": {
   "display_name": "Python 3",
   "language": "python",
   "name": "python3"
  },
  "language_info": {
   "codemirror_mode": {
    "name": "ipython",
    "version": 3
   },
   "file_extension": ".py",
   "mimetype": "text/x-python",
   "name": "python",
   "nbconvert_exporter": "python",
   "pygments_lexer": "ipython3",
   "version": "3.12.8"
  }
 },
 "nbformat": 4,
 "nbformat_minor": 5
}
